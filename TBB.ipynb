{
 "cells": [
  {
   "cell_type": "code",
   "execution_count": 1,
   "metadata": {
    "collapsed": false
   },
   "outputs": [
    {
     "name": "stdout",
     "output_type": "stream",
     "text": [
      "37.41582250595093\n"
     ]
    }
   ],
   "source": [
    "import TBB\n",
    "import dask, time\n",
    "import dask.array as da\n",
    "\n",
    "t0 = time.time()\n",
    "\n",
    "x = da.random.random((10000, 10000), chunks=(4096, 4096))\n",
    "x.dot(x.T).sum().compute()\n",
    "\n",
    "print(time.time() - t0)"
   ]
  }
 ],
 "metadata": {
  "kernelspec": {
   "display_name": "Python 3",
   "language": "python",
   "name": "python3"
  },
  "language_info": {
   "codemirror_mode": {
    "name": "ipython",
    "version": 3
   },
   "file_extension": ".py",
   "mimetype": "text/x-python",
   "name": "python",
   "nbconvert_exporter": "python",
   "pygments_lexer": "ipython3",
   "version": "3.5.1"
  }
 },
 "nbformat": 4,
 "nbformat_minor": 0
}
