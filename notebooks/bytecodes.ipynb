{
 "cells": [
  {
   "cell_type": "code",
   "execution_count": 2,
   "metadata": {
    "collapsed": true
   },
   "outputs": [],
   "source": [
    "import dis"
   ]
  },
  {
   "cell_type": "code",
   "execution_count": 9,
   "metadata": {
    "collapsed": true
   },
   "outputs": [],
   "source": [
    "def addNum(a,b,c):\n",
    "    return a+b+c+c\n",
    "def addNumRev(a,b,c):\n",
    "    d = 1\n",
    "    return d+a+b+c\n",
    "def mulNum(a,b,c):\n",
    "    return a+b+c+c"
   ]
  },
  {
   "cell_type": "code",
   "execution_count": 5,
   "metadata": {
    "collapsed": false
   },
   "outputs": [
    {
     "name": "stdout",
     "output_type": "stream",
     "text": [
      "  2           0 LOAD_FAST                0 (a)\n",
      "              3 LOAD_FAST                1 (b)\n",
      "              6 BINARY_ADD\n",
      "              7 LOAD_FAST                2 (c)\n",
      "             10 BINARY_ADD\n",
      "             11 LOAD_FAST                2 (c)\n",
      "             14 BINARY_ADD\n",
      "             15 RETURN_VALUE\n"
     ]
    }
   ],
   "source": [
    "dis.dis(addNum)"
   ]
  },
  {
   "cell_type": "code",
   "execution_count": 7,
   "metadata": {
    "collapsed": false
   },
   "outputs": [
    {
     "name": "stdout",
     "output_type": "stream",
     "text": [
      "  4           0 LOAD_FAST                0 (a)\n",
      "              3 LOAD_FAST                1 (b)\n",
      "              6 BINARY_ADD\n",
      "              7 LOAD_FAST                2 (c)\n",
      "             10 BINARY_ADD\n",
      "             11 LOAD_FAST                2 (c)\n",
      "             14 BINARY_ADD\n",
      "             15 RETURN_VALUE\n"
     ]
    }
   ],
   "source": [
    "dis.dis(mulNum)"
   ]
  },
  {
   "cell_type": "code",
   "execution_count": 10,
   "metadata": {
    "collapsed": false
   },
   "outputs": [
    {
     "name": "stdout",
     "output_type": "stream",
     "text": [
      "  4           0 LOAD_CONST               1 (1)\n",
      "              3 STORE_FAST               3 (d)\n",
      "\n",
      "  5           6 LOAD_FAST                3 (d)\n",
      "              9 LOAD_FAST                0 (a)\n",
      "             12 BINARY_ADD\n",
      "             13 LOAD_FAST                1 (b)\n",
      "             16 BINARY_ADD\n",
      "             17 LOAD_FAST                2 (c)\n",
      "             20 BINARY_ADD\n",
      "             21 RETURN_VALUE\n"
     ]
    }
   ],
   "source": [
    "dis.dis(addNumRev)"
   ]
  }
 ],
 "metadata": {
  "kernelspec": {
   "display_name": "Python 3",
   "language": "python",
   "name": "python3"
  },
  "language_info": {
   "codemirror_mode": {
    "name": "ipython",
    "version": 3
   },
   "file_extension": ".py",
   "mimetype": "text/x-python",
   "name": "python",
   "nbconvert_exporter": "python",
   "pygments_lexer": "ipython3",
   "version": "3.5.1"
  }
 },
 "nbformat": 4,
 "nbformat_minor": 0
}
