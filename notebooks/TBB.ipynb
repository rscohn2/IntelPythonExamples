{
 "cells": [
  {
   "cell_type": "code",
   "execution_count": 20,
   "metadata": {
    "collapsed": false
   },
   "outputs": [
    {
     "name": "stdout",
     "output_type": "stream",
     "text": [
      "import dask, time\r\n",
      "import dask.array as da\r\n",
      "\r\n",
      "def do_dot():\r\n",
      "    t0 = time.time()\r\n",
      "    x = da.random.random((20000, 20000), chunks=(4000, 4000))\r\n",
      "    x.dot(x.T).sum().compute()\r\n",
      "    print('Time: ',time.time() - t0)\r\n",
      "\r\n",
      "for x in range(3):\r\n",
      "    do_dot()\r\n"
     ]
    }
   ],
   "source": [
    "! cat ../scripts/dask-ex.py"
   ]
  },
  {
   "cell_type": "code",
   "execution_count": 22,
   "metadata": {
    "collapsed": false
   },
   "outputs": [
    {
     "name": "stdout",
     "output_type": "stream",
     "text": [
      "Time:  8.422322988510132\n",
      "Time:  7.270439624786377\n",
      "Time:  7.101450681686401\n"
     ]
    }
   ],
   "source": [
    "! python ../scripts/dask-ex.py"
   ]
  },
  {
   "cell_type": "code",
   "execution_count": 23,
   "metadata": {
    "collapsed": false
   },
   "outputs": [
    {
     "name": "stdout",
     "output_type": "stream",
     "text": [
      "Time:  4.892746448516846\n",
      "Time:  4.952843189239502\n",
      "Time:  4.759077310562134\n"
     ]
    }
   ],
   "source": [
    "! python -m TBB ../scripts/dask-ex.py"
   ]
  }
 ],
 "metadata": {
  "kernelspec": {
   "display_name": "Python 3",
   "language": "python",
   "name": "python3"
  },
  "language_info": {
   "codemirror_mode": {
    "name": "ipython",
    "version": 3
   },
   "file_extension": ".py",
   "mimetype": "text/x-python",
   "name": "python",
   "nbconvert_exporter": "python",
   "pygments_lexer": "ipython3",
   "version": "3.5.1"
  }
 },
 "nbformat": 4,
 "nbformat_minor": 0
}
