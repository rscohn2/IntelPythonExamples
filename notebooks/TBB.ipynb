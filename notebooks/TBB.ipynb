{
 "cells": [
  {
   "cell_type": "code",
   "execution_count": 1,
   "metadata": {
    "collapsed": false
   },
   "outputs": [
    {
     "name": "stdout",
     "output_type": "stream",
     "text": [
      "import dask, time\r\n",
      "import dask.array as da\r\n",
      "\r\n",
      "def do_dot():\r\n",
      "    t0 = time.time()\r\n",
      "    x = da.random.random((12000, 12000), chunks=(4000, 4000))\r\n",
      "    s = x.dot(x.T).sum().compute()\r\n",
      "    print('Time: ',time.time() - t0)\r\n",
      "\r\n",
      "for x in range(3):\r\n",
      "    do_dot()\r\n"
     ]
    }
   ],
   "source": [
    "! cat ../scripts/dask-ex.py"
   ]
  },
  {
   "cell_type": "code",
   "execution_count": 2,
   "metadata": {
    "collapsed": false
   },
   "outputs": [
    {
     "name": "stdout",
     "output_type": "stream",
     "text": [
      "Time:  8.24970269203186\n",
      "Time:  7.267415285110474\n",
      "Time:  7.527649641036987\n"
     ]
    }
   ],
   "source": [
    "! python ../scripts/dask-ex.py"
   ]
  },
  {
   "cell_type": "code",
   "execution_count": 3,
   "metadata": {
    "collapsed": false
   },
   "outputs": [
    {
     "name": "stdout",
     "output_type": "stream",
     "text": [
      "Time:  4.900471925735474\n",
      "Time:  4.906714916229248\n",
      "Time:  5.184909343719482\n"
     ]
    }
   ],
   "source": [
    "! python -m TBB ../scripts/dask-ex.py"
   ]
  }
 ],
 "metadata": {
  "kernelspec": {
   "display_name": "Python 3",
   "language": "python",
   "name": "python3"
  },
  "language_info": {
   "codemirror_mode": {
    "name": "ipython",
    "version": 3
   },
   "file_extension": ".py",
   "mimetype": "text/x-python",
   "name": "python",
   "nbconvert_exporter": "python",
   "pygments_lexer": "ipython3",
   "version": "3.5.1"
  }
 },
 "nbformat": 4,
 "nbformat_minor": 0
}
